{
  "nbformat": 4,
  "nbformat_minor": 0,
  "metadata": {
    "colab": {
      "name": "Untitled0.ipynb",
      "provenance": [],
      "collapsed_sections": [
        "RNaeUE30Go7Z",
        "y6wPohpAX7XE",
        "7QlmQFPkx-Xz",
        "OnBy_rb-yuiU",
        "FrFryK2LTy3w",
        "4sN53l3qWP_H",
        "YO-6bQ9crr1u",
        "vo1_nuLCxDwE"
      ]
    },
    "kernelspec": {
      "name": "python3",
      "display_name": "Python 3"
    },
    "accelerator": "GPU"
  },
  "cells": [
    {
      "cell_type": "markdown",
      "metadata": {
        "id": "wqpBExckGgwE",
        "colab_type": "text"
      },
      "source": [
        "# **Assignment 7**"
      ]
    },
    {
      "cell_type": "markdown",
      "metadata": {
        "id": "aSw3u1HprG9w",
        "colab_type": "text"
      },
      "source": [
        "Pawan Kumar : 224230                          \n",
        "Raj Rajeshwari Prasad: 224237                        \n",
        "Sesha Sai Kiran Bhavaraju : 224160"
      ]
    },
    {
      "cell_type": "markdown",
      "metadata": {
        "id": "fyO7hBMlrw5V",
        "colab_type": "text"
      },
      "source": [
        "# **Importing Libraries**"
      ]
    },
    {
      "cell_type": "code",
      "metadata": {
        "id": "SGkFEEHZGfbt",
        "colab_type": "code",
        "colab": {}
      },
      "source": [
        "%tensorflow_version 2.x\n",
        "from tensorflow.keras import backend as K\n",
        "from random import randint\n",
        "import tensorflow as tf\n",
        "import numpy as np"
      ],
      "execution_count": 0,
      "outputs": []
    },
    {
      "cell_type": "markdown",
      "metadata": {
        "id": "RNaeUE30Go7Z",
        "colab_type": "text"
      },
      "source": [
        "# **Task 1**"
      ]
    },
    {
      "cell_type": "code",
      "metadata": {
        "id": "fskt5CmPIZmq",
        "colab_type": "code",
        "colab": {}
      },
      "source": [
        "@tf.function\n",
        "def Task1(n):\n",
        "  t1 = tf.random.normal(shape = (10,n), mean = 0, stddev=50, dtype=tf.dtypes.float32, seed = None)\n",
        "  t2 = tf.math.top_k(t1,k = 1, sorted= True)\n",
        "\n",
        "  print(t2)\n",
        "\n",
        "  return(t2)\n"
      ],
      "execution_count": 0,
      "outputs": []
    },
    {
      "cell_type": "code",
      "metadata": {
        "id": "KD4vo87Xxxwg",
        "colab_type": "code",
        "outputId": "3d0dc189-e799-41eb-8bd5-f0c00740ba4b",
        "colab": {
          "base_uri": "https://localhost:8080/",
          "height": 386
        }
      },
      "source": [
        "Task1(5)"
      ],
      "execution_count": 22,
      "outputs": [
        {
          "output_type": "stream",
          "text": [
            "TopKV2(values=<tf.Tensor 'TopKV2:0' shape=(10, 1) dtype=float32>, indices=<tf.Tensor 'TopKV2:1' shape=(10, 1) dtype=int32>)\n"
          ],
          "name": "stdout"
        },
        {
          "output_type": "execute_result",
          "data": {
            "text/plain": [
              "TopKV2(values=<tf.Tensor: shape=(10, 1), dtype=float32, numpy=\n",
              "array([[ 90.622086],\n",
              "       [ 60.010403],\n",
              "       [ 93.32705 ],\n",
              "       [ 64.12159 ],\n",
              "       [ 47.7884  ],\n",
              "       [ 64.97065 ],\n",
              "       [ 37.2147  ],\n",
              "       [ 67.21049 ],\n",
              "       [-19.81553 ],\n",
              "       [ 61.401974]], dtype=float32)>, indices=<tf.Tensor: shape=(10, 1), dtype=int32, numpy=\n",
              "array([[0],\n",
              "       [4],\n",
              "       [1],\n",
              "       [1],\n",
              "       [4],\n",
              "       [3],\n",
              "       [3],\n",
              "       [2],\n",
              "       [0],\n",
              "       [0]], dtype=int32)>)"
            ]
          },
          "metadata": {
            "tags": []
          },
          "execution_count": 22
        }
      ]
    },
    {
      "cell_type": "markdown",
      "metadata": {
        "id": "y6wPohpAX7XE",
        "colab_type": "text"
      },
      "source": [
        "# **Task 2**"
      ]
    },
    {
      "cell_type": "code",
      "metadata": {
        "colab_type": "code",
        "id": "_GbpLIxEhzin",
        "colab": {}
      },
      "source": [
        "def Task2(n):\n",
        "  #tensor_temp = tf.constant([])\n",
        "  t1 =  tf.random.normal(shape = (10,n), mean = 0, stddev=50, dtype=tf.dtypes.float32, seed = None)\n",
        "  #t2 = tf.clip_by_norm(t1, clip_norm=)\n",
        "  t11 = []\n",
        "  rows = tf.split(t1, num_or_size_splits= len(t1))\n",
        "  for each in rows:\n",
        "    temp = K.cast(K.equal(each,K.max(each)), dtype=tf.dtypes.float32)\n",
        "    #tensor1 = tf.concat(temp, 0)\n",
        "    t11 += [temp]\n",
        "\n",
        "  return t11\n"
      ],
      "execution_count": 0,
      "outputs": []
    },
    {
      "cell_type": "code",
      "metadata": {
        "id": "j1jFq4cAj4Qh",
        "colab_type": "code",
        "outputId": "8db85ec6-89ee-4741-8843-5fb44e6e08dd",
        "colab": {
          "base_uri": "https://localhost:8080/",
          "height": 185
        }
      },
      "source": [
        "Task2(5)"
      ],
      "execution_count": 24,
      "outputs": [
        {
          "output_type": "execute_result",
          "data": {
            "text/plain": [
              "[<tf.Tensor: shape=(1, 5), dtype=float32, numpy=array([[0., 0., 1., 0., 0.]], dtype=float32)>,\n",
              " <tf.Tensor: shape=(1, 5), dtype=float32, numpy=array([[0., 1., 0., 0., 0.]], dtype=float32)>,\n",
              " <tf.Tensor: shape=(1, 5), dtype=float32, numpy=array([[0., 0., 0., 1., 0.]], dtype=float32)>,\n",
              " <tf.Tensor: shape=(1, 5), dtype=float32, numpy=array([[1., 0., 0., 0., 0.]], dtype=float32)>,\n",
              " <tf.Tensor: shape=(1, 5), dtype=float32, numpy=array([[0., 0., 0., 0., 1.]], dtype=float32)>,\n",
              " <tf.Tensor: shape=(1, 5), dtype=float32, numpy=array([[0., 0., 1., 0., 0.]], dtype=float32)>,\n",
              " <tf.Tensor: shape=(1, 5), dtype=float32, numpy=array([[1., 0., 0., 0., 0.]], dtype=float32)>,\n",
              " <tf.Tensor: shape=(1, 5), dtype=float32, numpy=array([[0., 1., 0., 0., 0.]], dtype=float32)>,\n",
              " <tf.Tensor: shape=(1, 5), dtype=float32, numpy=array([[1., 0., 0., 0., 0.]], dtype=float32)>,\n",
              " <tf.Tensor: shape=(1, 5), dtype=float32, numpy=array([[0., 0., 0., 0., 1.]], dtype=float32)>]"
            ]
          },
          "metadata": {
            "tags": []
          },
          "execution_count": 24
        }
      ]
    },
    {
      "cell_type": "markdown",
      "metadata": {
        "id": "7QlmQFPkx-Xz",
        "colab_type": "text"
      },
      "source": [
        "# **Task 3**"
      ]
    },
    {
      "cell_type": "code",
      "metadata": {
        "id": "zV-c_rCmwY7b",
        "colab_type": "code",
        "outputId": "cf236c3c-dbcf-49ec-f247-6325246b6236",
        "colab": {
          "base_uri": "https://localhost:8080/",
          "height": 252
        }
      },
      "source": [
        "def task_3():\n",
        "  k = 2\n",
        "  n = 5\n",
        "  inp = np.random.random((10,n))\n",
        "  input_tensor = tf.convert_to_tensor(inp)\n",
        "  inp.sort(axis = 0)\n",
        "  high_value,index = tf.nn.top_k(input_tensor, k =k)\n",
        "  output_tensor = tf.Variable(tf.zeros_like(input_tensor))\n",
        "  for ind in range(input_tensor.shape[0]):\n",
        "    for val in index[ind]:\n",
        "      output_tensor = (output_tensor[ind, val]).assign(input_tensor[ind,val])\n",
        "  \n",
        "  tf.print(\"Input Tensor: \", input_tensor)\n",
        "  tf.print(\"Output: \", output_tensor)\n",
        "\n",
        "task_3()"
      ],
      "execution_count": 25,
      "outputs": [
        {
          "output_type": "stream",
          "text": [
            "Input Tensor:  [[0.048062680069608787 0.023018879471889853 0.20605197877134529 0.011468678085643114 0.061715629251836379]\n",
            " [0.14586233428591211 0.044847223870031927 0.20752788066358308 0.046045798097338664 0.14717522488084978]\n",
            " [0.21708793109058855 0.079896759005308793 0.36277773572305572 0.10988353342597212 0.29596725004575686]\n",
            " ...\n",
            " [0.782013187926065 0.47841299100901824 0.70831958047800869 0.72484901597050777 0.90231834053599791]\n",
            " [0.90957492351875169 0.61775058659050119 0.76531635223378558 0.85319511719407126 0.96846257153731241]\n",
            " [0.92496402733894711 0.86113489293467727 0.96301611392929232 0.92391386422181843 0.9894031681637353]]\n",
            "Output:  [[0 0 0.20605197877134529 0 0.061715629251836379]\n",
            " [0 0 0.20752788066358308 0 0.14717522488084978]\n",
            " [0 0 0.36277773572305572 0 0.29596725004575686]\n",
            " ...\n",
            " [0.782013187926065 0 0 0 0.90231834053599791]\n",
            " [0.90957492351875169 0 0 0 0.96846257153731241]\n",
            " [0 0 0.96301611392929232 0 0.9894031681637353]]\n"
          ],
          "name": "stdout"
        }
      ]
    },
    {
      "cell_type": "markdown",
      "metadata": {
        "id": "OnBy_rb-yuiU",
        "colab_type": "text"
      },
      "source": [
        "# **Task 4**"
      ]
    },
    {
      "cell_type": "code",
      "metadata": {
        "id": "YwjbSSu-yqkU",
        "colab_type": "code",
        "outputId": "70a052a5-0697-486e-902a-2507ad257347",
        "colab": {
          "base_uri": "https://localhost:8080/",
          "height": 118
        }
      },
      "source": [
        "n = 5\n",
        "inp_tensor = tf.Variable(tf.random.normal([n], mean = 0, stddev=50, dtype=tf.dtypes.float32, seed = None))\n",
        "new_tensor = tf.Variable(tf.zeros_like(inp_tensor))\n",
        "\n",
        "def task4():\n",
        "  global inp_tensor, new_tensor\n",
        "  a =5\n",
        "  print('Input Tensor: '+ str(inp_tensor))\n",
        "  for i in range(1, inp_tensor.shape[0]):\n",
        "    new_tensor = inp_tensor[i].assign(a * new_tensor[i-1] + (1-a) * inp_tensor[i])\n",
        "  print('New Tensor : ' + str(new_tensor))\n",
        "\n",
        "task4()"
      ],
      "execution_count": 26,
      "outputs": [
        {
          "output_type": "stream",
          "text": [
            "Input Tensor: <tf.Variable 'Variable:0' shape=(5,) dtype=float32, numpy=\n",
            "array([ 20.346237, -27.820286, -17.491646, -63.797997, -27.917046],\n",
            "      dtype=float32)>\n",
            "New Tensor : <tf.Variable 'UnreadVariable' shape=(5,) dtype=float32, numpy=\n",
            "array([   20.346237,   111.28114 ,   626.3723  ,  3387.0535  ,\n",
            "       17046.936   ], dtype=float32)>\n"
          ],
          "name": "stdout"
        }
      ]
    },
    {
      "cell_type": "markdown",
      "metadata": {
        "id": "FrFryK2LTy3w",
        "colab_type": "text"
      },
      "source": [
        "# **Task 5**"
      ]
    },
    {
      "cell_type": "code",
      "metadata": {
        "id": "Bp7pi2aM_dV6",
        "colab_type": "code",
        "outputId": "47ccbf7c-c276-4975-e181-7bf9a68fed2d",
        "colab": {
          "base_uri": "https://localhost:8080/",
          "height": 34
        }
      },
      "source": [
        "new_tensor[-1]"
      ],
      "execution_count": 27,
      "outputs": [
        {
          "output_type": "execute_result",
          "data": {
            "text/plain": [
              "<tf.Tensor: shape=(), dtype=float32, numpy=17046.936>"
            ]
          },
          "metadata": {
            "tags": []
          },
          "execution_count": 27
        }
      ]
    },
    {
      "cell_type": "markdown",
      "metadata": {
        "id": "4sN53l3qWP_H",
        "colab_type": "text"
      },
      "source": [
        "# **Task 6**"
      ]
    },
    {
      "cell_type": "code",
      "metadata": {
        "id": "jkMAYzbAVkqS",
        "colab_type": "code",
        "outputId": "60239c60-353b-407c-d0b2-14a103bcef5d",
        "colab": {
          "base_uri": "https://localhost:8080/",
          "height": 84
        }
      },
      "source": [
        "def task6():\n",
        "  x = tf.random.uniform(shape=([5]), maxval=20,dtype=tf.dtypes.int32)\n",
        "  y = tf.random.uniform(shape=([5]), maxval=20,dtype=tf.dtypes.int32)\n",
        "  z = tf.random.uniform(shape=([5]), maxval=20,dtype=tf.dtypes.int32)\n",
        "  print('X : ' + str(x))\n",
        "  print('Y : ' + str(y))\n",
        "  print('Z : ' + str(z))\n",
        "  new = tf.Variable(tf.zeros_like(x))\n",
        "\n",
        "  for i in range(0, x.shape[0]):\n",
        "    if x[i]%2 ==0:\n",
        "      new[i].assign(y[i]) \n",
        "    else:\n",
        "      new[i].assign(z[i])\n",
        "  print(new)\n",
        "\n",
        "task6()\n",
        "\n"
      ],
      "execution_count": 28,
      "outputs": [
        {
          "output_type": "stream",
          "text": [
            "X : tf.Tensor([ 4  9  9  0 17], shape=(5,), dtype=int32)\n",
            "Y : tf.Tensor([14  2 13  9 11], shape=(5,), dtype=int32)\n",
            "Z : tf.Tensor([16 16 19  8  0], shape=(5,), dtype=int32)\n",
            "<tf.Variable 'Variable:0' shape=(5,) dtype=int32, numpy=array([14, 16, 19,  9,  0], dtype=int32)>\n"
          ],
          "name": "stdout"
        }
      ]
    },
    {
      "cell_type": "markdown",
      "metadata": {
        "id": "YO-6bQ9crr1u",
        "colab_type": "text"
      },
      "source": [
        "# **Task7**"
      ]
    },
    {
      "cell_type": "code",
      "metadata": {
        "id": "69EmJsD1rq3K",
        "colab_type": "code",
        "colab": {}
      },
      "source": [
        "def task7():\n",
        "  n = randint(0,150)\n",
        "  x = tf.random.uniform(shape=([n,n]), maxval=20,dtype=tf.dtypes.int32)\n",
        "  #dim_val = x.shape[0]\n",
        "  if tf.size(x[-1])>100:\n",
        "    return 100\n",
        "  elif tf.size(x[-1])<=100 and tf.size(x[-1])>44:\n",
        "    return 12\n",
        "  else:\n",
        "    return 0"
      ],
      "execution_count": 0,
      "outputs": []
    },
    {
      "cell_type": "code",
      "metadata": {
        "id": "Ab8tMR8JXc2u",
        "colab_type": "code",
        "outputId": "3c0c59d1-42d8-4c3c-d948-ac2d43c7d57b",
        "colab": {
          "base_uri": "https://localhost:8080/",
          "height": 34
        }
      },
      "source": [
        "task7()"
      ],
      "execution_count": 30,
      "outputs": [
        {
          "output_type": "execute_result",
          "data": {
            "text/plain": [
              "100"
            ]
          },
          "metadata": {
            "tags": []
          },
          "execution_count": 30
        }
      ]
    },
    {
      "cell_type": "markdown",
      "metadata": {
        "id": "vo1_nuLCxDwE",
        "colab_type": "text"
      },
      "source": [
        "# **Task8**"
      ]
    },
    {
      "cell_type": "code",
      "metadata": {
        "id": "n72jLxzutnbe",
        "colab_type": "code",
        "colab": {}
      },
      "source": [
        "count1, count2, count3 = 0,0,0\n",
        "\n",
        "def task8():\n",
        "  global count1, count2, count3\n",
        "  n = randint(0,150)\n",
        "  x = tf.random.uniform(shape=([n,n]), maxval=20,dtype=tf.dtypes.int32)\n",
        "  #count1 += 1 if len(x[-1])>100 else 0\n",
        "  if len(x[-1])>100:\n",
        "    count1 = count1 + 1\n",
        "    return 100\n",
        "  elif len(x[-1])<=100 and len(x[-1])>44:\n",
        "    count2 = count2 +1\n",
        "    return 12\n",
        "  else:\n",
        "    count3 = count3 +1\n",
        "  return 0"
      ],
      "execution_count": 0,
      "outputs": []
    },
    {
      "cell_type": "code",
      "metadata": {
        "id": "zVErn0_1xq9H",
        "colab_type": "code",
        "colab": {
          "base_uri": "https://localhost:8080/",
          "height": 67
        },
        "outputId": "e2226b51-a94d-44e7-979c-b5c850e17bec"
      },
      "source": [
        "for i in range(10):\n",
        "  task8()\n",
        "\n",
        "print('count1: {}'.format(count1))\n",
        "print('count2: {}'.format(count2))\n",
        "print('count3: {}'.format(count3))"
      ],
      "execution_count": 32,
      "outputs": [
        {
          "output_type": "stream",
          "text": [
            "count1: 6\n",
            "count2: 2\n",
            "count3: 2\n"
          ],
          "name": "stdout"
        }
      ]
    },
    {
      "cell_type": "markdown",
      "metadata": {
        "id": "55SipQYYATpV",
        "colab_type": "text"
      },
      "source": [
        "# **Task9**"
      ]
    },
    {
      "cell_type": "code",
      "metadata": {
        "id": "sSZb9UhybuHe",
        "colab_type": "code",
        "colab": {
          "base_uri": "https://localhost:8080/",
          "height": 101
        },
        "outputId": "7b5e55a6-e59c-439a-95b5-ba907baeec50"
      },
      "source": [
        "@tf.function\n",
        "def task9(t1, t2):\n",
        "  global ret_tensor\n",
        "  n=len(t1[0])\n",
        "  res=tf.zeros([n,n])\n",
        "  t1=tf.broadcast_to(t1,[n,n])\n",
        "  t2=tf.broadcast_to(t2,[n,n])\n",
        "  t3=tf.subtract(t1,tf.transpose(t2))\n",
        "  tf.print(t3)\n",
        "\n",
        "ret_tensor = []\n",
        "t_one = tf.random.uniform(shape=(1,5),maxval=20, dtype=tf.dtypes.int32) \n",
        "t_two = tf.random.uniform(shape=(1,5),maxval=20, dtype=tf.dtypes.int32)\n",
        "task9(t_one, t_two)"
      ],
      "execution_count": 33,
      "outputs": [
        {
          "output_type": "stream",
          "text": [
            "[[4 4 -7 -9 0]\n",
            " [0 0 -11 -13 -4]\n",
            " [0 0 -11 -13 -4]\n",
            " [11 11 0 -2 7]\n",
            " [18 18 7 5 14]]\n"
          ],
          "name": "stdout"
        }
      ]
    },
    {
      "cell_type": "markdown",
      "metadata": {
        "id": "trZBLQ-PAXzp",
        "colab_type": "text"
      },
      "source": [
        "# **Task10**"
      ]
    },
    {
      "cell_type": "code",
      "metadata": {
        "id": "H6DQCVwgxse9",
        "colab_type": "code",
        "colab": {
          "base_uri": "https://localhost:8080/",
          "height": 54
        },
        "outputId": "d04d03d4-6a86-475d-d598-7abbe04c0f0d"
      },
      "source": [
        "def task10():\n",
        "  h = tf.random.uniform([1,4,3])# batch  x time x features(vocab)\n",
        "  s = tf.random.uniform([1,3]) # batch x features\n",
        "  for batch_idx in range(0, len(h)):\n",
        "    #batch_level_control\n",
        "    batch = h[batch_idx]\n",
        "    tensor_lis = []\n",
        "    for each_tensor in batch:\n",
        "      #time_level_control\n",
        "      m1 = tf.constant(tf.matmul(tf.reshape(each_tensor, (1,3)),tf.transpose(s)))\n",
        "      tensor_lis += [m1]    \n",
        "    print(tensor_lis)\n",
        "task10()"
      ],
      "execution_count": 34,
      "outputs": [
        {
          "output_type": "stream",
          "text": [
            "[<tf.Tensor: shape=(1, 1), dtype=float32, numpy=array([[0.65647393]], dtype=float32)>, <tf.Tensor: shape=(1, 1), dtype=float32, numpy=array([[0.09668623]], dtype=float32)>, <tf.Tensor: shape=(1, 1), dtype=float32, numpy=array([[0.03610782]], dtype=float32)>, <tf.Tensor: shape=(1, 1), dtype=float32, numpy=array([[0.03396068]], dtype=float32)>]\n"
          ],
          "name": "stdout"
        }
      ]
    },
    {
      "cell_type": "code",
      "metadata": {
        "id": "IVKdN6cAGIAd",
        "colab_type": "code",
        "colab": {}
      },
      "source": [
        ""
      ],
      "execution_count": 0,
      "outputs": []
    }
  ]
}